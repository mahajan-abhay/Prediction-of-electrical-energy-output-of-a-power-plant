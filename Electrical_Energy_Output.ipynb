{
  "nbformat": 4,
  "nbformat_minor": 0,
  "metadata": {
    "colab": {
      "name": "Electrical Energy Output",
      "provenance": [],
      "collapsed_sections": []
    },
    "kernelspec": {
      "name": "python3",
      "display_name": "Python 3"
    }
  },
  "cells": [
    {
      "cell_type": "markdown",
      "metadata": {
        "id": "8sNDnxE2-pwE",
        "colab_type": "text"
      },
      "source": [
        "### Importing the libraries"
      ]
    },
    {
      "cell_type": "code",
      "metadata": {
        "id": "w4vQOpHsbcd7",
        "colab_type": "code",
        "colab": {}
      },
      "source": [
        "import numpy as np\n",
        "import pandas as pd\n",
        "import tensorflow as tf"
      ],
      "execution_count": 0,
      "outputs": []
    },
    {
      "cell_type": "code",
      "metadata": {
        "id": "lGwBTJr4bjXp",
        "colab_type": "code",
        "outputId": "c96cd2d1-b065-4cf9-9c4f-42d3bbf8b250",
        "colab": {
          "base_uri": "https://localhost:8080/",
          "height": 34
        }
      },
      "source": [
        "tf.__version__"
      ],
      "execution_count": 2,
      "outputs": [
        {
          "output_type": "execute_result",
          "data": {
            "text/plain": [
              "'2.2.0'"
            ]
          },
          "metadata": {
            "tags": []
          },
          "execution_count": 2
        }
      ]
    },
    {
      "cell_type": "markdown",
      "metadata": {
        "id": "AG3FQEch-yuA",
        "colab_type": "text"
      },
      "source": [
        "## Part 1 - Data Preprocessing"
      ]
    },
    {
      "cell_type": "markdown",
      "metadata": {
        "id": "-4zq8Mza_D9O",
        "colab_type": "text"
      },
      "source": [
        "### Importing the dataset"
      ]
    },
    {
      "cell_type": "code",
      "metadata": {
        "id": "j3fMWL1EbwYh",
        "colab_type": "code",
        "colab": {}
      },
      "source": [
        "dataset = pd.read_excel('Power_plant.xlsx')\n",
        "x = dataset.iloc[: , : -1].values\n",
        "y = dataset.iloc[: , -1].values"
      ],
      "execution_count": 0,
      "outputs": []
    },
    {
      "cell_type": "markdown",
      "metadata": {
        "id": "VC6omXel_Up0",
        "colab_type": "text"
      },
      "source": [
        "### Splitting the dataset into the Training set and Test set"
      ]
    },
    {
      "cell_type": "code",
      "metadata": {
        "id": "9v8MG7p_cXvh",
        "colab_type": "code",
        "colab": {}
      },
      "source": [
        "from sklearn.model_selection import train_test_split\n",
        "x_train , x_test , y_train , y_test = train_test_split(x , y , test_size = 0.2 , random_state = 0)"
      ],
      "execution_count": 0,
      "outputs": []
    },
    {
      "cell_type": "markdown",
      "metadata": {
        "id": "_mSLlAT9_eyI",
        "colab_type": "text"
      },
      "source": [
        "## Part 2 - Building the ANN"
      ]
    },
    {
      "cell_type": "markdown",
      "metadata": {
        "id": "CsBULd_f_wLY",
        "colab_type": "text"
      },
      "source": [
        "### Initializing the ANN"
      ]
    },
    {
      "cell_type": "code",
      "metadata": {
        "id": "MjigAWW9dz4l",
        "colab_type": "code",
        "colab": {}
      },
      "source": [
        "ann = tf.keras.models.Sequential()"
      ],
      "execution_count": 0,
      "outputs": []
    },
    {
      "cell_type": "markdown",
      "metadata": {
        "id": "iitAFJS_ABUn",
        "colab_type": "text"
      },
      "source": [
        "### Adding the input layer and the first hidden layer"
      ]
    },
    {
      "cell_type": "code",
      "metadata": {
        "id": "gcRVbozYeBd6",
        "colab_type": "code",
        "colab": {}
      },
      "source": [
        "ann.add(tf.keras.layers.Dense(units = 6 , activation = 'relu'))"
      ],
      "execution_count": 0,
      "outputs": []
    },
    {
      "cell_type": "markdown",
      "metadata": {
        "id": "-lb4kK_wAKbs",
        "colab_type": "text"
      },
      "source": [
        "### Adding the second hidden layer"
      ]
    },
    {
      "cell_type": "code",
      "metadata": {
        "id": "Y3veXcrPeT2Y",
        "colab_type": "code",
        "colab": {}
      },
      "source": [
        "ann.add(tf.keras.layers.Dense(units = 6 , activation = 'relu'))"
      ],
      "execution_count": 0,
      "outputs": []
    },
    {
      "cell_type": "markdown",
      "metadata": {
        "id": "jwMOmKb3AdBY",
        "colab_type": "text"
      },
      "source": [
        "### Adding the output layer"
      ]
    },
    {
      "cell_type": "code",
      "metadata": {
        "id": "l7K99VsheYRW",
        "colab_type": "code",
        "colab": {}
      },
      "source": [
        "ann.add(tf.keras.layers.Dense(units = 1))"
      ],
      "execution_count": 0,
      "outputs": []
    },
    {
      "cell_type": "markdown",
      "metadata": {
        "id": "fq7e4fF6A1yy",
        "colab_type": "text"
      },
      "source": [
        "## Part 3 - Training the ANN"
      ]
    },
    {
      "cell_type": "markdown",
      "metadata": {
        "id": "qDeylAs2An25",
        "colab_type": "text"
      },
      "source": [
        "### Compiling the ANN"
      ]
    },
    {
      "cell_type": "code",
      "metadata": {
        "id": "nRqSAwg5f_aS",
        "colab_type": "code",
        "colab": {}
      },
      "source": [
        "ann.compile(optimizer = 'adam' , loss = 'mean_squared_error')"
      ],
      "execution_count": 0,
      "outputs": []
    },
    {
      "cell_type": "markdown",
      "metadata": {
        "id": "YjVuiybYOo7r",
        "colab_type": "text"
      },
      "source": [
        "### Training the ANN model on the Training set"
      ]
    },
    {
      "cell_type": "code",
      "metadata": {
        "id": "USFMibeZgyRU",
        "colab_type": "code",
        "outputId": "b3c67101-777c-49bd-968e-2098e2abea19",
        "colab": {
          "base_uri": "https://localhost:8080/",
          "height": 1000
        }
      },
      "source": [
        "ann.fit(x_train , y_train , batch_size = 32 , epochs = 100)"
      ],
      "execution_count": 10,
      "outputs": [
        {
          "output_type": "stream",
          "text": [
            "Epoch 1/100\n",
            "240/240 [==============================] - 0s 970us/step - loss: 63601.7227\n",
            "Epoch 2/100\n",
            "240/240 [==============================] - 0s 1ms/step - loss: 230.6995\n",
            "Epoch 3/100\n",
            "240/240 [==============================] - 0s 949us/step - loss: 211.4185\n",
            "Epoch 4/100\n",
            "240/240 [==============================] - 0s 950us/step - loss: 197.7447\n",
            "Epoch 5/100\n",
            "240/240 [==============================] - 0s 987us/step - loss: 182.0395\n",
            "Epoch 6/100\n",
            "240/240 [==============================] - 0s 966us/step - loss: 165.4632\n",
            "Epoch 7/100\n",
            "240/240 [==============================] - 0s 945us/step - loss: 148.0605\n",
            "Epoch 8/100\n",
            "240/240 [==============================] - 0s 976us/step - loss: 130.5043\n",
            "Epoch 9/100\n",
            "240/240 [==============================] - 0s 1ms/step - loss: 114.0891\n",
            "Epoch 10/100\n",
            "240/240 [==============================] - 0s 959us/step - loss: 99.1653\n",
            "Epoch 11/100\n",
            "240/240 [==============================] - 0s 953us/step - loss: 86.6082\n",
            "Epoch 12/100\n",
            "240/240 [==============================] - 0s 941us/step - loss: 76.5799\n",
            "Epoch 13/100\n",
            "240/240 [==============================] - 0s 969us/step - loss: 69.1301\n",
            "Epoch 14/100\n",
            "240/240 [==============================] - 0s 952us/step - loss: 63.8446\n",
            "Epoch 15/100\n",
            "240/240 [==============================] - 0s 929us/step - loss: 60.1544\n",
            "Epoch 16/100\n",
            "240/240 [==============================] - 0s 941us/step - loss: 57.2497\n",
            "Epoch 17/100\n",
            "240/240 [==============================] - 0s 935us/step - loss: 54.7355\n",
            "Epoch 18/100\n",
            "240/240 [==============================] - 0s 980us/step - loss: 52.8499\n",
            "Epoch 19/100\n",
            "240/240 [==============================] - 0s 956us/step - loss: 50.6650\n",
            "Epoch 20/100\n",
            "240/240 [==============================] - 0s 944us/step - loss: 46.7522\n",
            "Epoch 21/100\n",
            "240/240 [==============================] - 0s 995us/step - loss: 44.0521\n",
            "Epoch 22/100\n",
            "240/240 [==============================] - 0s 967us/step - loss: 42.2904\n",
            "Epoch 23/100\n",
            "240/240 [==============================] - 0s 983us/step - loss: 40.7249\n",
            "Epoch 24/100\n",
            "240/240 [==============================] - 0s 961us/step - loss: 39.1543\n",
            "Epoch 25/100\n",
            "240/240 [==============================] - 0s 946us/step - loss: 37.4855\n",
            "Epoch 26/100\n",
            "240/240 [==============================] - 0s 955us/step - loss: 36.3687\n",
            "Epoch 27/100\n",
            "240/240 [==============================] - 0s 994us/step - loss: 34.7769\n",
            "Epoch 28/100\n",
            "240/240 [==============================] - 0s 928us/step - loss: 33.6489\n",
            "Epoch 29/100\n",
            "240/240 [==============================] - 0s 963us/step - loss: 32.5555\n",
            "Epoch 30/100\n",
            "240/240 [==============================] - 0s 962us/step - loss: 31.4439\n",
            "Epoch 31/100\n",
            "240/240 [==============================] - 0s 945us/step - loss: 30.5290\n",
            "Epoch 32/100\n",
            "240/240 [==============================] - 0s 959us/step - loss: 29.6956\n",
            "Epoch 33/100\n",
            "240/240 [==============================] - 0s 943us/step - loss: 29.0058\n",
            "Epoch 34/100\n",
            "240/240 [==============================] - 0s 924us/step - loss: 28.2054\n",
            "Epoch 35/100\n",
            "240/240 [==============================] - 0s 965us/step - loss: 27.6251\n",
            "Epoch 36/100\n",
            "240/240 [==============================] - 0s 947us/step - loss: 27.0112\n",
            "Epoch 37/100\n",
            "240/240 [==============================] - 0s 920us/step - loss: 26.9807\n",
            "Epoch 38/100\n",
            "240/240 [==============================] - 0s 945us/step - loss: 26.2392\n",
            "Epoch 39/100\n",
            "240/240 [==============================] - 0s 977us/step - loss: 26.2331\n",
            "Epoch 40/100\n",
            "240/240 [==============================] - 0s 991us/step - loss: 26.2548\n",
            "Epoch 41/100\n",
            "240/240 [==============================] - 0s 965us/step - loss: 25.7346\n",
            "Epoch 42/100\n",
            "240/240 [==============================] - 0s 942us/step - loss: 25.4449\n",
            "Epoch 43/100\n",
            "240/240 [==============================] - 0s 992us/step - loss: 25.1916\n",
            "Epoch 44/100\n",
            "240/240 [==============================] - 0s 990us/step - loss: 25.0635\n",
            "Epoch 45/100\n",
            "240/240 [==============================] - 0s 966us/step - loss: 25.0862\n",
            "Epoch 46/100\n",
            "240/240 [==============================] - 0s 965us/step - loss: 24.6730\n",
            "Epoch 47/100\n",
            "240/240 [==============================] - 0s 944us/step - loss: 24.6527\n",
            "Epoch 48/100\n",
            "240/240 [==============================] - 0s 981us/step - loss: 24.7731\n",
            "Epoch 49/100\n",
            "240/240 [==============================] - 0s 982us/step - loss: 24.5639\n",
            "Epoch 50/100\n",
            "240/240 [==============================] - 0s 958us/step - loss: 24.2815\n",
            "Epoch 51/100\n",
            "240/240 [==============================] - 0s 957us/step - loss: 24.7592\n",
            "Epoch 52/100\n",
            "240/240 [==============================] - 0s 1ms/step - loss: 24.7426\n",
            "Epoch 53/100\n",
            "240/240 [==============================] - 0s 971us/step - loss: 24.2627\n",
            "Epoch 54/100\n",
            "240/240 [==============================] - 0s 959us/step - loss: 24.4688\n",
            "Epoch 55/100\n",
            "240/240 [==============================] - 0s 1ms/step - loss: 24.8981\n",
            "Epoch 56/100\n",
            "240/240 [==============================] - 0s 987us/step - loss: 24.4926\n",
            "Epoch 57/100\n",
            "240/240 [==============================] - 0s 969us/step - loss: 24.2761\n",
            "Epoch 58/100\n",
            "240/240 [==============================] - 0s 929us/step - loss: 24.0904\n",
            "Epoch 59/100\n",
            "240/240 [==============================] - 0s 933us/step - loss: 24.2103\n",
            "Epoch 60/100\n",
            "240/240 [==============================] - 0s 996us/step - loss: 24.1940\n",
            "Epoch 61/100\n",
            "240/240 [==============================] - 0s 945us/step - loss: 23.9678\n",
            "Epoch 62/100\n",
            "240/240 [==============================] - 0s 1ms/step - loss: 24.4070\n",
            "Epoch 63/100\n",
            "240/240 [==============================] - 0s 959us/step - loss: 24.2372\n",
            "Epoch 64/100\n",
            "240/240 [==============================] - 0s 961us/step - loss: 24.4282\n",
            "Epoch 65/100\n",
            "240/240 [==============================] - 0s 955us/step - loss: 24.1972\n",
            "Epoch 66/100\n",
            "240/240 [==============================] - 0s 967us/step - loss: 24.2801\n",
            "Epoch 67/100\n",
            "240/240 [==============================] - 0s 909us/step - loss: 24.2393\n",
            "Epoch 68/100\n",
            "240/240 [==============================] - 0s 937us/step - loss: 24.0905\n",
            "Epoch 69/100\n",
            "240/240 [==============================] - 0s 1ms/step - loss: 23.9126\n",
            "Epoch 70/100\n",
            "240/240 [==============================] - 0s 954us/step - loss: 24.4701\n",
            "Epoch 71/100\n",
            "240/240 [==============================] - 0s 959us/step - loss: 24.0569\n",
            "Epoch 72/100\n",
            "240/240 [==============================] - 0s 904us/step - loss: 24.2656\n",
            "Epoch 73/100\n",
            "240/240 [==============================] - 0s 1ms/step - loss: 24.0282\n",
            "Epoch 74/100\n",
            "240/240 [==============================] - 0s 966us/step - loss: 24.7960\n",
            "Epoch 75/100\n",
            "240/240 [==============================] - 0s 944us/step - loss: 23.9973\n",
            "Epoch 76/100\n",
            "240/240 [==============================] - 0s 934us/step - loss: 23.6988\n",
            "Epoch 77/100\n",
            "240/240 [==============================] - 0s 964us/step - loss: 23.9298\n",
            "Epoch 78/100\n",
            "240/240 [==============================] - 0s 922us/step - loss: 25.0067\n",
            "Epoch 79/100\n",
            "240/240 [==============================] - 0s 964us/step - loss: 23.9986\n",
            "Epoch 80/100\n",
            "240/240 [==============================] - 0s 940us/step - loss: 24.2267\n",
            "Epoch 81/100\n",
            "240/240 [==============================] - 0s 961us/step - loss: 24.0033\n",
            "Epoch 82/100\n",
            "240/240 [==============================] - 0s 976us/step - loss: 24.0398\n",
            "Epoch 83/100\n",
            "240/240 [==============================] - 0s 938us/step - loss: 24.1303\n",
            "Epoch 84/100\n",
            "240/240 [==============================] - 0s 971us/step - loss: 24.2617\n",
            "Epoch 85/100\n",
            "240/240 [==============================] - 0s 971us/step - loss: 24.5248\n",
            "Epoch 86/100\n",
            "240/240 [==============================] - 0s 980us/step - loss: 24.1013\n",
            "Epoch 87/100\n",
            "240/240 [==============================] - 0s 960us/step - loss: 24.0935\n",
            "Epoch 88/100\n",
            "240/240 [==============================] - 0s 974us/step - loss: 23.7156\n",
            "Epoch 89/100\n",
            "240/240 [==============================] - 0s 961us/step - loss: 24.5711\n",
            "Epoch 90/100\n",
            "240/240 [==============================] - 0s 985us/step - loss: 24.3561\n",
            "Epoch 91/100\n",
            "240/240 [==============================] - 0s 952us/step - loss: 23.8327\n",
            "Epoch 92/100\n",
            "240/240 [==============================] - 0s 999us/step - loss: 23.8700\n",
            "Epoch 93/100\n",
            "240/240 [==============================] - 0s 976us/step - loss: 24.5284\n",
            "Epoch 94/100\n",
            "240/240 [==============================] - 0s 951us/step - loss: 24.1372\n",
            "Epoch 95/100\n",
            "240/240 [==============================] - 0s 981us/step - loss: 24.0001\n",
            "Epoch 96/100\n",
            "240/240 [==============================] - 0s 964us/step - loss: 24.3511\n",
            "Epoch 97/100\n",
            "240/240 [==============================] - 0s 933us/step - loss: 24.0848\n",
            "Epoch 98/100\n",
            "240/240 [==============================] - 0s 964us/step - loss: 24.1772\n",
            "Epoch 99/100\n",
            "240/240 [==============================] - 0s 936us/step - loss: 24.2427\n",
            "Epoch 100/100\n",
            "240/240 [==============================] - 0s 1ms/step - loss: 24.1320\n"
          ],
          "name": "stdout"
        },
        {
          "output_type": "execute_result",
          "data": {
            "text/plain": [
              "<tensorflow.python.keras.callbacks.History at 0x7f3a087130f0>"
            ]
          },
          "metadata": {
            "tags": []
          },
          "execution_count": 10
        }
      ]
    },
    {
      "cell_type": "markdown",
      "metadata": {
        "id": "0H0zKKNEBLD5",
        "colab_type": "text"
      },
      "source": [
        "### Predicting the results of the Test set"
      ]
    },
    {
      "cell_type": "code",
      "metadata": {
        "id": "v6bDEty3g-Ru",
        "colab_type": "code",
        "outputId": "35f644d3-7d16-4e1c-88cd-02133e839ea5",
        "colab": {
          "base_uri": "https://localhost:8080/",
          "height": 134
        }
      },
      "source": [
        "y_pred = ann.predict(x_test)\n",
        "np.set_printoptions(precision = 2)\n",
        "print(np.concatenate((y_pred.reshape(len(y_pred) , 1) , y_test.reshape(len(y_test) , 1)) , 1))"
      ],
      "execution_count": 11,
      "outputs": [
        {
          "output_type": "stream",
          "text": [
            "[[432.91 431.23]\n",
            " [461.36 460.01]\n",
            " [467.5  461.14]\n",
            " ...\n",
            " [474.14 473.26]\n",
            " [440.61 438.  ]\n",
            " [458.59 463.28]]\n"
          ],
          "name": "stdout"
        }
      ]
    }
  ]
}